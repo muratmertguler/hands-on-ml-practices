{
 "cells": [
  {
   "cell_type": "code",
   "execution_count": 1,
   "id": "9a1d042b",
   "metadata": {
    "_cell_guid": "b1076dfc-b9ad-4769-8c92-a6c4dae69d19",
    "_uuid": "8f2839f25d086af736a60e9eeb907d3b93b6e0e5",
    "execution": {
     "iopub.execute_input": "2024-07-04T14:38:16.859745Z",
     "iopub.status.busy": "2024-07-04T14:38:16.859296Z",
     "iopub.status.idle": "2024-07-04T14:38:17.634513Z",
     "shell.execute_reply": "2024-07-04T14:38:17.633537Z"
    },
    "papermill": {
     "duration": 0.784541,
     "end_time": "2024-07-04T14:38:17.637044",
     "exception": false,
     "start_time": "2024-07-04T14:38:16.852503",
     "status": "completed"
    },
    "tags": []
   },
   "outputs": [],
   "source": [
    "# This Python 3 environment comes with many helpful analytics libraries installed\n",
    "# It is defined by the kaggle/python Docker image: https://github.com/kaggle/docker-python\n",
    "# For example, here's several helpful packages to load\n",
    "\n",
    "import numpy as np # linear algebra\n",
    "import pandas as pd # data processing, CSV file I/O (e.g. pd.read_csv)\n",
    "\n",
    "# Input data files are available in the read-only \"../input/\" directory\n",
    "# For example, running this (by clicking run or pressing Shift+Enter) will list all files under the input directory\n",
    "\n",
    "import os\n",
    "for dirname, _, filenames in os.walk('/kaggle/input'):\n",
    "    for filename in filenames:\n",
    "        print(os.path.join(dirname, filename))\n",
    "\n",
    "# You can write up to 20GB to the current directory (/kaggle/working/) that gets preserved as output when you create a version using \"Save & Run All\" \n",
    "# You can also write temporary files to /kaggle/temp/, but they won't be saved outside of the current session"
   ]
  },
  {
   "cell_type": "markdown",
   "id": "814b13db",
   "metadata": {
    "papermill": {
     "duration": 0.004548,
     "end_time": "2024-07-04T14:38:17.647409",
     "exception": false,
     "start_time": "2024-07-04T14:38:17.642861",
     "status": "completed"
    },
    "tags": []
   },
   "source": [
    "```8. Load the MNIST data (introduced in Chapter 3), and split it into a training set,a validation set, and a test set (e.g., use 50,000 instances for training, 10,000\n",
    "for validation, and 10,000 for testing). Then train various classifiers, such as a Random Forest classifier, an Extra-Trees classifier, and an SVM classifier.\n",
    "Next, try to combine them into an ensemble that outperforms each individual classifier on the validation set, using soft or hard voting. Once you have found\n",
    "one, try it on the test set. How much better does it perform compared to the individual classifiers?\n",
    "#-----------------------------------------------------------------------------------------------#\n",
    "9. Run the individual classifiers from the previous exercise to make predictions on the validation set, and create a new training set with the resulting\n",
    "predictions: each training instance is a vector containing the set of predictions from all your classifiers for an image, and the target is the image’s class. \n",
    "Train a classifier on this new training set. Congratulations, you have just trained a  blender, and together with the classifiers it forms a stacking ensemble! Now\n",
    "evaluate the ensemble on the test set. For each image in the test set, make predictions with all your classifiers, then feed the predictions to the blender to\n",
    "get the ensemble’s predictions. How does it compare to the voting classifier you trained earlier?```"
   ]
  },
  {
   "cell_type": "code",
   "execution_count": 2,
   "id": "a860de26",
   "metadata": {
    "execution": {
     "iopub.execute_input": "2024-07-04T14:38:17.659061Z",
     "iopub.status.busy": "2024-07-04T14:38:17.658198Z",
     "iopub.status.idle": "2024-07-04T14:39:22.901323Z",
     "shell.execute_reply": "2024-07-04T14:39:22.900268Z"
    },
    "papermill": {
     "duration": 65.252035,
     "end_time": "2024-07-04T14:39:22.904179",
     "exception": false,
     "start_time": "2024-07-04T14:38:17.652144",
     "status": "completed"
    },
    "tags": []
   },
   "outputs": [
    {
     "name": "stderr",
     "output_type": "stream",
     "text": [
      "/opt/conda/lib/python3.10/site-packages/sklearn/datasets/_openml.py:968: FutureWarning: The default value of `parser` will change from `'liac-arff'` to `'auto'` in 1.4. You can set `parser='auto'` to silence this warning. Therefore, an `ImportError` will be raised from 1.4 if the dataset is dense and pandas is not installed. Note that the pandas parser may return different data types. See the Notes Section in fetch_openml's API doc for details.\n",
      "  warn(\n"
     ]
    }
   ],
   "source": [
    "from sklearn.datasets import fetch_openml\n",
    "mnist = fetch_openml('mnist_784', version=1)\n",
    "mnist.keys()\n",
    "X, y = mnist[\"data\"], mnist[\"target\"]"
   ]
  },
  {
   "cell_type": "code",
   "execution_count": 3,
   "id": "c9f15d62",
   "metadata": {
    "execution": {
     "iopub.execute_input": "2024-07-04T14:39:22.916355Z",
     "iopub.status.busy": "2024-07-04T14:39:22.915956Z",
     "iopub.status.idle": "2024-07-04T14:39:22.930683Z",
     "shell.execute_reply": "2024-07-04T14:39:22.929500Z"
    },
    "papermill": {
     "duration": 0.023087,
     "end_time": "2024-07-04T14:39:22.932817",
     "exception": false,
     "start_time": "2024-07-04T14:39:22.909730",
     "status": "completed"
    },
    "tags": []
   },
   "outputs": [
    {
     "data": {
      "text/plain": [
       "pixel1      0.0\n",
       "pixel2      0.0\n",
       "pixel3      0.0\n",
       "pixel4      0.0\n",
       "pixel5      0.0\n",
       "           ... \n",
       "pixel780    0.0\n",
       "pixel781    0.0\n",
       "pixel782    0.0\n",
       "pixel783    0.0\n",
       "pixel784    0.0\n",
       "Name: 0, Length: 784, dtype: float64"
      ]
     },
     "execution_count": 3,
     "metadata": {},
     "output_type": "execute_result"
    }
   ],
   "source": [
    "X.loc[0]"
   ]
  },
  {
   "cell_type": "code",
   "execution_count": 4,
   "id": "2fa31b5f",
   "metadata": {
    "execution": {
     "iopub.execute_input": "2024-07-04T14:39:22.944150Z",
     "iopub.status.busy": "2024-07-04T14:39:22.943787Z",
     "iopub.status.idle": "2024-07-04T14:39:23.036840Z",
     "shell.execute_reply": "2024-07-04T14:39:23.035505Z"
    },
    "papermill": {
     "duration": 0.10221,
     "end_time": "2024-07-04T14:39:23.039985",
     "exception": false,
     "start_time": "2024-07-04T14:39:22.937775",
     "status": "completed"
    },
    "tags": []
   },
   "outputs": [
    {
     "data": {
      "text/plain": [
       "(-0.5, 27.5, 27.5, -0.5)"
      ]
     },
     "execution_count": 4,
     "metadata": {},
     "output_type": "execute_result"
    },
    {
     "data": {
      "image/png": "[encoded data removed]",
      "text/plain": [
       "<Figure size 640x480 with 1 Axes>"
      ]
     },
     "metadata": {},
     "output_type": "display_data"
    }
   ],
   "source": [
    "import matplotlib as mpl\n",
    "import matplotlib.pyplot as plt\n",
    "\n",
    "some_digit = np.array(X.loc[0])\n",
    "some_digit_image = some_digit.reshape(28, 28)\n",
    "\n",
    "plt.imshow(some_digit_image,cmap=\"binary\")\n",
    "plt.axis(\"off\")\n"
   ]
  },
  {
   "cell_type": "code",
   "execution_count": 5,
   "id": "38f3b4a9",
   "metadata": {
    "execution": {
     "iopub.execute_input": "2024-07-04T14:39:23.060265Z",
     "iopub.status.busy": "2024-07-04T14:39:23.058848Z",
     "iopub.status.idle": "2024-07-04T14:39:23.066399Z",
     "shell.execute_reply": "2024-07-04T14:39:23.065190Z"
    },
    "papermill": {
     "duration": 0.020511,
     "end_time": "2024-07-04T14:39:23.069380",
     "exception": false,
     "start_time": "2024-07-04T14:39:23.048869",
     "status": "completed"
    },
    "tags": []
   },
   "outputs": [],
   "source": [
    " y = y.astype(np.uint8)"
   ]
  },
  {
   "cell_type": "code",
   "execution_count": 6,
   "id": "051392a3",
   "metadata": {
    "execution": {
     "iopub.execute_input": "2024-07-04T14:39:23.089099Z",
     "iopub.status.busy": "2024-07-04T14:39:23.087767Z",
     "iopub.status.idle": "2024-07-04T14:39:23.103247Z",
     "shell.execute_reply": "2024-07-04T14:39:23.102106Z"
    },
    "papermill": {
     "duration": 0.028438,
     "end_time": "2024-07-04T14:39:23.106386",
     "exception": false,
     "start_time": "2024-07-04T14:39:23.077948",
     "status": "completed"
    },
    "tags": []
   },
   "outputs": [],
   "source": [
    "X_train = X[:50000]\n",
    "X_test  = X[50000:60000]\n",
    "X_val   = X[60000:]\n",
    "\n",
    "y_train = y[:50000]\n",
    "y_test  = y[50000:60000]\n",
    "y_val   = y[60000:]"
   ]
  },
  {
   "cell_type": "code",
   "execution_count": 7,
   "id": "19c9bd9d",
   "metadata": {
    "execution": {
     "iopub.execute_input": "2024-07-04T14:39:23.127349Z",
     "iopub.status.busy": "2024-07-04T14:39:23.126688Z",
     "iopub.status.idle": "2024-07-04T14:39:23.131361Z",
     "shell.execute_reply": "2024-07-04T14:39:23.130620Z"
    },
    "papermill": {
     "duration": 0.017904,
     "end_time": "2024-07-04T14:39:23.133652",
     "exception": false,
     "start_time": "2024-07-04T14:39:23.115748",
     "status": "completed"
    },
    "tags": []
   },
   "outputs": [],
   "source": [
    "y_train_5 = (y_train == 5)\n",
    "y_test_5  = (y_test  == 5)\n",
    "y_val_5   = (y_val   == 5)"
   ]
  },
  {
   "cell_type": "code",
   "execution_count": 8,
   "id": "9b231b61",
   "metadata": {
    "execution": {
     "iopub.execute_input": "2024-07-04T14:39:23.145677Z",
     "iopub.status.busy": "2024-07-04T14:39:23.145263Z",
     "iopub.status.idle": "2024-07-04T14:39:23.150724Z",
     "shell.execute_reply": "2024-07-04T14:39:23.149809Z"
    },
    "papermill": {
     "duration": 0.014681,
     "end_time": "2024-07-04T14:39:23.153563",
     "exception": false,
     "start_time": "2024-07-04T14:39:23.138882",
     "status": "completed"
    },
    "tags": []
   },
   "outputs": [
    {
     "name": "stdout",
     "output_type": "stream",
     "text": [
      "Train shape: ((50000, 784), (50000,))\n",
      "Test shape : ((10000, 784), (10000,))\n",
      "valid shape: ((10000, 784), (10000,))\n"
     ]
    }
   ],
   "source": [
    "print(f\"Train shape: {X_train.shape, y_train.shape}\")\n",
    "print(f\"Test shape : {X_test.shape,   y_test.shape}\")\n",
    "print(f\"valid shape: {X_val.shape,   y_val.shape}\")"
   ]
  },
  {
   "cell_type": "code",
   "execution_count": 9,
   "id": "4d0f3ee4",
   "metadata": {
    "execution": {
     "iopub.execute_input": "2024-07-04T14:39:23.165243Z",
     "iopub.status.busy": "2024-07-04T14:39:23.164892Z",
     "iopub.status.idle": "2024-07-04T14:39:24.732455Z",
     "shell.execute_reply": "2024-07-04T14:39:24.731481Z"
    },
    "papermill": {
     "duration": 1.576276,
     "end_time": "2024-07-04T14:39:24.735048",
     "exception": false,
     "start_time": "2024-07-04T14:39:23.158772",
     "status": "completed"
    },
    "tags": []
   },
   "outputs": [],
   "source": [
    "from sklearn.metrics import accuracy_score, precision_score, recall_score, f1_score, roc_curve, RocCurveDisplay, classification_report\n",
    "from sklearn.ensemble import RandomForestClassifier, ExtraTreesClassifier\n",
    "from xgboost import XGBClassifier\n",
    "from lightgbm import LGBMClassifier\n",
    "from sklearn.svm import SVC, LinearSVC\n",
    "from sklearn.model_selection import cross_val_score"
   ]
  },
  {
   "cell_type": "code",
   "execution_count": 10,
   "id": "6c5841b5",
   "metadata": {
    "execution": {
     "iopub.execute_input": "2024-07-04T14:39:24.747942Z",
     "iopub.status.busy": "2024-07-04T14:39:24.746826Z",
     "iopub.status.idle": "2024-07-04T14:40:28.648097Z",
     "shell.execute_reply": "2024-07-04T14:40:28.647106Z"
    },
    "papermill": {
     "duration": 63.914425,
     "end_time": "2024-07-04T14:40:28.654898",
     "exception": false,
     "start_time": "2024-07-04T14:39:24.740473",
     "status": "completed"
    },
    "tags": []
   },
   "outputs": [
    {
     "data": {
      "text/plain": [
       "0.9932799783941918"
      ]
     },
     "execution_count": 10,
     "metadata": {},
     "output_type": "execute_result"
    }
   ],
   "source": [
    "xgb = XGBClassifier()\n",
    "xgb_scores = cross_val_score(xgb, X_train, y_train_5, cv=3, scoring=\"accuracy\")\n",
    "xgb_scores.mean()"
   ]
  },
  {
   "cell_type": "code",
   "execution_count": 11,
   "id": "9d419cfd",
   "metadata": {
    "execution": {
     "iopub.execute_input": "2024-07-04T14:40:28.667301Z",
     "iopub.status.busy": "2024-07-04T14:40:28.666904Z",
     "iopub.status.idle": "2024-07-04T14:41:06.299699Z",
     "shell.execute_reply": "2024-07-04T14:41:06.298656Z"
    },
    "papermill": {
     "duration": 37.646524,
     "end_time": "2024-07-04T14:41:06.306689",
     "exception": false,
     "start_time": "2024-07-04T14:40:28.660165",
     "status": "completed"
    },
    "tags": []
   },
   "outputs": [
    {
     "name": "stdout",
     "output_type": "stream",
     "text": [
      "[LightGBM] [Info] Number of positive: 3004, number of negative: 30329\n",
      "[LightGBM] [Info] Auto-choosing row-wise multi-threading, the overhead of testing was 0.119900 seconds.\n",
      "You can set `force_row_wise=true` to remove the overhead.\n",
      "And if memory is not enough, you can set `force_col_wise=true`.\n",
      "[LightGBM] [Info] Total Bins 102790\n",
      "[LightGBM] [Info] Number of data points in the train set: 33333, number of used features: 616\n",
      "[LightGBM] [Info] [binary:BoostFromScore]: pavg=0.090121 -> initscore=-2.312160\n",
      "[LightGBM] [Info] Start training from score -2.312160\n",
      "[LightGBM] [Info] Number of positive: 3004, number of negative: 30329\n",
      "[LightGBM] [Info] Auto-choosing row-wise multi-threading, the overhead of testing was 0.206773 seconds.\n",
      "You can set `force_row_wise=true` to remove the overhead.\n",
      "And if memory is not enough, you can set `force_col_wise=true`.\n",
      "[LightGBM] [Info] Total Bins 102880\n",
      "[LightGBM] [Info] Number of data points in the train set: 33333, number of used features: 614\n",
      "[LightGBM] [Info] [binary:BoostFromScore]: pavg=0.090121 -> initscore=-2.312160\n",
      "[LightGBM] [Info] Start training from score -2.312160\n",
      "[LightGBM] [Info] Number of positive: 3004, number of negative: 30330\n",
      "[LightGBM] [Info] Auto-choosing row-wise multi-threading, the overhead of testing was 0.207632 seconds.\n",
      "You can set `force_row_wise=true` to remove the overhead.\n",
      "And if memory is not enough, you can set `force_col_wise=true`.\n",
      "[LightGBM] [Info] Total Bins 102929\n",
      "[LightGBM] [Info] Number of data points in the train set: 33334, number of used features: 613\n",
      "[LightGBM] [Info] [binary:BoostFromScore]: pavg=0.090118 -> initscore=-2.312193\n",
      "[LightGBM] [Info] Start training from score -2.312193\n"
     ]
    },
    {
     "data": {
      "text/plain": [
       "0.9919999739930798"
      ]
     },
     "execution_count": 11,
     "metadata": {},
     "output_type": "execute_result"
    }
   ],
   "source": [
    "lgb = LGBMClassifier()\n",
    "lgb_scores = cross_val_score(lgb, X_train, y_train_5, cv=3, scoring=\"accuracy\")\n",
    "lgb_scores.mean()"
   ]
  },
  {
   "cell_type": "code",
   "execution_count": 12,
   "id": "fc63a1f9",
   "metadata": {
    "execution": {
     "iopub.execute_input": "2024-07-04T14:41:06.320124Z",
     "iopub.status.busy": "2024-07-04T14:41:06.319754Z",
     "iopub.status.idle": "2024-07-04T14:42:04.739381Z",
     "shell.execute_reply": "2024-07-04T14:42:04.738370Z"
    },
    "papermill": {
     "duration": 58.435389,
     "end_time": "2024-07-04T14:42:04.748057",
     "exception": false,
     "start_time": "2024-07-04T14:41:06.312668",
     "status": "completed"
    },
    "tags": []
   },
   "outputs": [
    {
     "data": {
      "text/plain": [
       "0.9864199751886398"
      ]
     },
     "execution_count": 12,
     "metadata": {},
     "output_type": "execute_result"
    }
   ],
   "source": [
    "rf = RandomForestClassifier()\n",
    "rf_scores = cross_val_score(rf, X_train, y_train_5, cv=3, scoring=\"accuracy\")\n",
    "rf_scores.mean()"
   ]
  },
  {
   "cell_type": "code",
   "execution_count": 13,
   "id": "602d2007",
   "metadata": {
    "execution": {
     "iopub.execute_input": "2024-07-04T14:42:04.761938Z",
     "iopub.status.busy": "2024-07-04T14:42:04.761110Z",
     "iopub.status.idle": "2024-07-04T14:42:48.486247Z",
     "shell.execute_reply": "2024-07-04T14:42:48.485137Z"
    },
    "papermill": {
     "duration": 43.740916,
     "end_time": "2024-07-04T14:42:48.494866",
     "exception": false,
     "start_time": "2024-07-04T14:42:04.753950",
     "status": "completed"
    },
    "tags": []
   },
   "outputs": [
    {
     "data": {
      "text/plain": [
       "0.9886999859906798"
      ]
     },
     "execution_count": 13,
     "metadata": {},
     "output_type": "execute_result"
    }
   ],
   "source": [
    "extr = ExtraTreesClassifier()\n",
    "extr_scores = cross_val_score(extr, X_train, y_train_5, cv=3, scoring=\"accuracy\")\n",
    "extr_scores.mean()"
   ]
  },
  {
   "cell_type": "code",
   "execution_count": 14,
   "id": "4fdad596",
   "metadata": {
    "execution": {
     "iopub.execute_input": "2024-07-04T14:42:48.509376Z",
     "iopub.status.busy": "2024-07-04T14:42:48.509001Z",
     "iopub.status.idle": "2024-07-04T14:43:42.719585Z",
     "shell.execute_reply": "2024-07-04T14:43:42.718484Z"
    },
    "papermill": {
     "duration": 54.221907,
     "end_time": "2024-07-04T14:43:42.723329",
     "exception": false,
     "start_time": "2024-07-04T14:42:48.501422",
     "status": "completed"
    },
    "tags": []
   },
   "outputs": [
    {
     "name": "stderr",
     "output_type": "stream",
     "text": [
      "/opt/conda/lib/python3.10/site-packages/sklearn/svm/_base.py:1244: ConvergenceWarning: Liblinear failed to converge, increase the number of iterations.\n",
      "  warnings.warn(\n",
      "/opt/conda/lib/python3.10/site-packages/sklearn/svm/_base.py:1244: ConvergenceWarning: Liblinear failed to converge, increase the number of iterations.\n",
      "  warnings.warn(\n",
      "/opt/conda/lib/python3.10/site-packages/sklearn/svm/_base.py:1244: ConvergenceWarning: Liblinear failed to converge, increase the number of iterations.\n",
      "  warnings.warn(\n"
     ]
    },
    {
     "data": {
      "text/plain": [
       "0.9543602107677035"
      ]
     },
     "execution_count": 14,
     "metadata": {},
     "output_type": "execute_result"
    }
   ],
   "source": [
    "lin_svc = LinearSVC()\n",
    "lin_svc_scores = cross_val_score(lin_svc, X_train, y_train_5, cv=3, scoring=\"accuracy\")\n",
    "lin_svc_scores.mean()"
   ]
  },
  {
   "cell_type": "code",
   "execution_count": 15,
   "id": "eb319593",
   "metadata": {
    "execution": {
     "iopub.execute_input": "2024-07-04T14:43:42.746184Z",
     "iopub.status.busy": "2024-07-04T14:43:42.745659Z",
     "iopub.status.idle": "2024-07-04T14:47:17.215579Z",
     "shell.execute_reply": "2024-07-04T14:47:17.214644Z"
    },
    "papermill": {
     "duration": 214.490529,
     "end_time": "2024-07-04T14:47:17.224284",
     "exception": false,
     "start_time": "2024-07-04T14:43:42.733755",
     "status": "completed"
    },
    "tags": []
   },
   "outputs": [
    {
     "data": {
      "text/plain": [
       "0.9933199811942798"
      ]
     },
     "execution_count": 15,
     "metadata": {},
     "output_type": "execute_result"
    }
   ],
   "source": [
    "svc = SVC()\n",
    "svc_scores = cross_val_score(svc, X_train, y_train_5, cv=3, scoring=\"accuracy\")\n",
    "svc_scores.mean()"
   ]
  },
  {
   "cell_type": "code",
   "execution_count": 16,
   "id": "9b7d3bdd",
   "metadata": {
    "execution": {
     "iopub.execute_input": "2024-07-04T14:47:17.239567Z",
     "iopub.status.busy": "2024-07-04T14:47:17.238475Z",
     "iopub.status.idle": "2024-07-04T14:47:17.245326Z",
     "shell.execute_reply": "2024-07-04T14:47:17.244270Z"
    },
    "papermill": {
     "duration": 0.017006,
     "end_time": "2024-07-04T14:47:17.247710",
     "exception": false,
     "start_time": "2024-07-04T14:47:17.230704",
     "status": "completed"
    },
    "tags": []
   },
   "outputs": [
    {
     "data": {
      "text/plain": [
       "array([0.9948401 , 0.99280014, 0.99219969])"
      ]
     },
     "execution_count": 16,
     "metadata": {},
     "output_type": "execute_result"
    }
   ],
   "source": [
    "xgb_scores"
   ]
  },
  {
   "cell_type": "code",
   "execution_count": 17,
   "id": "57d0c60d",
   "metadata": {
    "execution": {
     "iopub.execute_input": "2024-07-04T14:47:17.262772Z",
     "iopub.status.busy": "2024-07-04T14:47:17.262386Z",
     "iopub.status.idle": "2024-07-04T14:47:17.518288Z",
     "shell.execute_reply": "2024-07-04T14:47:17.517293Z"
    },
    "papermill": {
     "duration": 0.266371,
     "end_time": "2024-07-04T14:47:17.520742",
     "exception": false,
     "start_time": "2024-07-04T14:47:17.254371",
     "status": "completed"
    },
    "tags": []
   },
   "outputs": [
    {
     "data": {
      "image/png": "[encoded data removed]",
      "text/plain": [
       "<Figure size 1000x400 with 1 Axes>"
      ]
     },
     "metadata": {},
     "output_type": "display_data"
    }
   ],
   "source": [
    "plt.figure(figsize=(10, 4))\n",
    "plt.plot([1]*3, xgb_scores,  \".\",markersize=12)\n",
    "plt.plot([2]*3, lgb_scores,  \".\",markersize=12)\n",
    "plt.plot([3]*3, rf_scores,   \".\",markersize=12)\n",
    "plt.plot([4]*3, extr_scores, \".\",markersize=12)\n",
    "plt.plot([5]*3, lin_svc_scores, \".\",markersize=12)\n",
    "plt.plot([6]*3, svc_scores, \".\",markersize=12)\n",
    "plt.boxplot([xgb_scores, lgb_scores, rf_scores, extr_scores, lin_svc_scores, svc_scores], labels=(\"XGB\",\"LGBM\", \"RandomForest\", \"ExtraTrees\", \"LinearSVC\", \"SVC\"))\n",
    "plt.ylabel(\"Accuracy\", fontsize=10)\n",
    "plt.show()"
   ]
  }
 ],
 "metadata": {
  "kaggle": {
   "accelerator": "none",
   "dataSources": [],
   "dockerImageVersionId": 30732,
   "isGpuEnabled": false,
   "isInternetEnabled": true,
   "language": "python",
   "sourceType": "notebook"
  },
  "kernelspec": {
   "display_name": "Python 3",
   "language": "python",
   "name": "python3"
  },
  "language_info": {
   "codemirror_mode": {
    "name": "ipython",
    "version": 3
   },
   "file_extension": ".py",
   "mimetype": "text/x-python",
   "name": "python",
   "nbconvert_exporter": "python",
   "pygments_lexer": "ipython3",
   "version": "3.10.13"
  },
  "papermill": {
   "default_parameters": {},
   "duration": 544.129595,
   "end_time": "2024-07-04T14:47:18.350662",
   "environment_variables": {},
   "exception": null,
   "input_path": "__notebook__.ipynb",
   "output_path": "__notebook__.ipynb",
   "parameters": {},
   "start_time": "2024-07-04T14:38:14.221067",
   "version": "2.5.0"
  }
 },
 "nbformat": 4,
 "nbformat_minor": 5
}
